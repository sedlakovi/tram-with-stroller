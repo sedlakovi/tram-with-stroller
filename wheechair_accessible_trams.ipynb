{
 "cells": [
  {
   "cell_type": "markdown",
   "id": "0893766b",
   "metadata": {},
   "source": [
    "# Která linka tramvaje je nejlepší na cestování s kočárkem?\n",
    "\n",
    "## Autorka: Mgr. Anastázie Sedláková, PhD [sedlakovi.org](https://www.sedlakovi.org/)\n",
    "\n",
    "Tento notebook je první ze série notebooků, kde zjišťuji, jak lze co nejpohodlněji cestovat s kočárkem v Praze. \n",
    "Cílem tohoto notebooku je určit, které tramvaje v Praze mají nejvíce a nejméně nízkopodlažních* spojů.\n",
    "\n",
    "*Pozn. nepracuji tady s daty v reálném čase, takže se jedná o počet garantovaných nízkopodlažních vozů* "
   ]
  },
  {
   "cell_type": "markdown",
   "id": "fc6c37c4",
   "metadata": {},
   "source": [
    "## Data\n",
    "\n",
    "[Pražská integrovaná doprava](https://pid.cz/o-systemu/opendata/) poskytuje otevřená data o provozu MHD. Některá data jsou aktualizovaná jednou za 14 dní a jsou ve formátu [GTFS](https://developers.google.com/transit/gtfs/reference). Jsou dostupná i data o provozu v reálném čase, ze kterých čerpají aplikace vyhledávající spojení.\n",
    "\n",
    "Pro tento notebook jsem použila soubor [trips.txt](https://developers.google.com/transit/gtfs/reference#tripstxt) obsahující jizdní řády linek včetně informací o tom, zda se jedná o nízkopodlažní spoj."
   ]
  },
  {
   "cell_type": "code",
   "execution_count": 1,
   "id": "d60a5b62",
   "metadata": {},
   "outputs": [],
   "source": [
    "import matplotlib.pyplot as plt\n",
    "import pandas as pd\n",
    "import seaborn as sns"
   ]
  },
  {
   "cell_type": "code",
   "execution_count": 2,
   "id": "2c283836",
   "metadata": {},
   "outputs": [
    {
     "name": "stderr",
     "output_type": "stream",
     "text": [
      "/tmp/ipykernel_36563/3737955811.py:1: DtypeWarning: Columns (4) have mixed types. Specify dtype option on import or set low_memory=False.\n",
      "  trips = pd.read_csv('./data/trips.txt')\n"
     ]
    },
    {
     "data": {
      "text/html": [
       "<div>\n",
       "<style scoped>\n",
       "    .dataframe tbody tr th:only-of-type {\n",
       "        vertical-align: middle;\n",
       "    }\n",
       "\n",
       "    .dataframe tbody tr th {\n",
       "        vertical-align: top;\n",
       "    }\n",
       "\n",
       "    .dataframe thead th {\n",
       "        text-align: right;\n",
       "    }\n",
       "</style>\n",
       "<table border=\"1\" class=\"dataframe\">\n",
       "  <thead>\n",
       "    <tr style=\"text-align: right;\">\n",
       "      <th></th>\n",
       "      <th>route_id</th>\n",
       "      <th>service_id</th>\n",
       "      <th>trip_id</th>\n",
       "      <th>trip_headsign</th>\n",
       "      <th>trip_short_name</th>\n",
       "      <th>direction_id</th>\n",
       "      <th>block_id</th>\n",
       "      <th>shape_id</th>\n",
       "      <th>wheelchair_accessible</th>\n",
       "      <th>bikes_allowed</th>\n",
       "      <th>exceptional</th>\n",
       "      <th>sub_agency_id</th>\n",
       "    </tr>\n",
       "  </thead>\n",
       "  <tbody>\n",
       "    <tr>\n",
       "      <th>0</th>\n",
       "      <td>L991</td>\n",
       "      <td>1111100-1</td>\n",
       "      <td>991_1342_220901</td>\n",
       "      <td>Nemocnice Motol</td>\n",
       "      <td>NaN</td>\n",
       "      <td>0</td>\n",
       "      <td>NaN</td>\n",
       "      <td>L991V1</td>\n",
       "      <td>1</td>\n",
       "      <td>1</td>\n",
       "      <td>0</td>\n",
       "      <td>1</td>\n",
       "    </tr>\n",
       "    <tr>\n",
       "      <th>1</th>\n",
       "      <td>L991</td>\n",
       "      <td>1111100-1</td>\n",
       "      <td>991_1343_220901</td>\n",
       "      <td>Depo Hostivař</td>\n",
       "      <td>NaN</td>\n",
       "      <td>1</td>\n",
       "      <td>NaN</td>\n",
       "      <td>L991V2</td>\n",
       "      <td>1</td>\n",
       "      <td>1</td>\n",
       "      <td>0</td>\n",
       "      <td>1</td>\n",
       "    </tr>\n",
       "    <tr>\n",
       "      <th>2</th>\n",
       "      <td>L991</td>\n",
       "      <td>1111100-1</td>\n",
       "      <td>991_1344_220901</td>\n",
       "      <td>Nemocnice Motol</td>\n",
       "      <td>NaN</td>\n",
       "      <td>0</td>\n",
       "      <td>NaN</td>\n",
       "      <td>L991V3</td>\n",
       "      <td>1</td>\n",
       "      <td>1</td>\n",
       "      <td>0</td>\n",
       "      <td>1</td>\n",
       "    </tr>\n",
       "    <tr>\n",
       "      <th>3</th>\n",
       "      <td>L991</td>\n",
       "      <td>1111100-1</td>\n",
       "      <td>991_1345_220901</td>\n",
       "      <td>Depo Hostivař</td>\n",
       "      <td>NaN</td>\n",
       "      <td>1</td>\n",
       "      <td>NaN</td>\n",
       "      <td>L991V4</td>\n",
       "      <td>1</td>\n",
       "      <td>1</td>\n",
       "      <td>0</td>\n",
       "      <td>1</td>\n",
       "    </tr>\n",
       "    <tr>\n",
       "      <th>4</th>\n",
       "      <td>L991</td>\n",
       "      <td>1111100-1</td>\n",
       "      <td>991_1346_220901</td>\n",
       "      <td>Nemocnice Motol</td>\n",
       "      <td>NaN</td>\n",
       "      <td>0</td>\n",
       "      <td>NaN</td>\n",
       "      <td>L991V5</td>\n",
       "      <td>1</td>\n",
       "      <td>1</td>\n",
       "      <td>0</td>\n",
       "      <td>1</td>\n",
       "    </tr>\n",
       "  </tbody>\n",
       "</table>\n",
       "</div>"
      ],
      "text/plain": [
       "  route_id service_id          trip_id    trip_headsign trip_short_name  \\\n",
       "0     L991  1111100-1  991_1342_220901  Nemocnice Motol             NaN   \n",
       "1     L991  1111100-1  991_1343_220901    Depo Hostivař             NaN   \n",
       "2     L991  1111100-1  991_1344_220901  Nemocnice Motol             NaN   \n",
       "3     L991  1111100-1  991_1345_220901    Depo Hostivař             NaN   \n",
       "4     L991  1111100-1  991_1346_220901  Nemocnice Motol             NaN   \n",
       "\n",
       "   direction_id block_id shape_id  wheelchair_accessible  bikes_allowed  \\\n",
       "0             0      NaN   L991V1                      1              1   \n",
       "1             1      NaN   L991V2                      1              1   \n",
       "2             0      NaN   L991V3                      1              1   \n",
       "3             1      NaN   L991V4                      1              1   \n",
       "4             0      NaN   L991V5                      1              1   \n",
       "\n",
       "   exceptional  sub_agency_id  \n",
       "0            0              1  \n",
       "1            0              1  \n",
       "2            0              1  \n",
       "3            0              1  \n",
       "4            0              1  "
      ]
     },
     "execution_count": 2,
     "metadata": {},
     "output_type": "execute_result"
    }
   ],
   "source": [
    "trips = pd.read_csv('./data/trips.txt')\n",
    "trips.head()"
   ]
  },
  {
   "cell_type": "markdown",
   "id": "44bad872",
   "metadata": {},
   "source": [
    "Zajímají mě jen travaje, které jsou označeny `L` a číslo linky."
   ]
  },
  {
   "cell_type": "code",
   "execution_count": 3,
   "id": "0d82e30e",
   "metadata": {},
   "outputs": [],
   "source": [
    "trams = [f'L{i}' for i in range(1,27)]"
   ]
  },
  {
   "cell_type": "code",
   "execution_count": 4,
   "id": "d6176c47",
   "metadata": {},
   "outputs": [
    {
     "data": {
      "text/plain": [
       "(18765, 12)"
      ]
     },
     "execution_count": 4,
     "metadata": {},
     "output_type": "execute_result"
    }
   ],
   "source": [
    "trips = trips[trips['route_id'].isin(trams)]\n",
    "trips.shape"
   ]
  },
  {
   "cell_type": "markdown",
   "id": "ba3a568b",
   "metadata": {},
   "source": [
    "`wheelchair_accessible` obsahuje informaci zda se jedná o nízkopodlažní spoj (hodnota `1`) nebo ne (hodnota `2`)."
   ]
  },
  {
   "cell_type": "code",
   "execution_count": 5,
   "id": "b692fa3e",
   "metadata": {},
   "outputs": [
    {
     "data": {
      "text/plain": [
       "1    11833\n",
       "2     6932\n",
       "Name: wheelchair_accessible, dtype: int64"
      ]
     },
     "execution_count": 5,
     "metadata": {},
     "output_type": "execute_result"
    }
   ],
   "source": [
    "trips.wheelchair_accessible.value_counts()"
   ]
  },
  {
   "cell_type": "code",
   "execution_count": 6,
   "id": "1adee9bc",
   "metadata": {},
   "outputs": [
    {
     "data": {
      "text/plain": [
       "1    0.630589\n",
       "2    0.369411\n",
       "Name: wheelchair_accessible, dtype: float64"
      ]
     },
     "execution_count": 6,
     "metadata": {},
     "output_type": "execute_result"
    }
   ],
   "source": [
    "trips.wheelchair_accessible.value_counts()/trips.shape[0]"
   ]
  },
  {
   "cell_type": "markdown",
   "id": "21a2b1a0",
   "metadata": {},
   "source": [
    "Skvělé je to, že více než dvě třetiny spojů jsou nízkopodlažní. Ale vyskytují se nízkopodlažní spoje u všech linek rovnoměrně? Abych to určila, spočítám pro každou linku procento nízkopodlažních spojů k celkovému počtu."
   ]
  },
  {
   "cell_type": "code",
   "execution_count": 7,
   "id": "ae10489f",
   "metadata": {},
   "outputs": [],
   "source": [
    "def compute_wheelchair_ratio(df):\n",
    "    return (df[df['wheelchair_accessible'] == 1].shape[0]/ df.shape[0] )*100"
   ]
  },
  {
   "cell_type": "code",
   "execution_count": 8,
   "id": "d370400e",
   "metadata": {},
   "outputs": [
    {
     "data": {
      "text/html": [
       "<div>\n",
       "<style scoped>\n",
       "    .dataframe tbody tr th:only-of-type {\n",
       "        vertical-align: middle;\n",
       "    }\n",
       "\n",
       "    .dataframe tbody tr th {\n",
       "        vertical-align: top;\n",
       "    }\n",
       "\n",
       "    .dataframe thead th {\n",
       "        text-align: right;\n",
       "    }\n",
       "</style>\n",
       "<table border=\"1\" class=\"dataframe\">\n",
       "  <thead>\n",
       "    <tr style=\"text-align: right;\">\n",
       "      <th></th>\n",
       "      <th>route_id</th>\n",
       "      <th>wheelchair_accessible_ratio</th>\n",
       "    </tr>\n",
       "  </thead>\n",
       "  <tbody>\n",
       "    <tr>\n",
       "      <th>0</th>\n",
       "      <td>5</td>\n",
       "      <td>99.0</td>\n",
       "    </tr>\n",
       "    <tr>\n",
       "      <th>1</th>\n",
       "      <td>19</td>\n",
       "      <td>96.0</td>\n",
       "    </tr>\n",
       "    <tr>\n",
       "      <th>2</th>\n",
       "      <td>3</td>\n",
       "      <td>83.0</td>\n",
       "    </tr>\n",
       "    <tr>\n",
       "      <th>3</th>\n",
       "      <td>20</td>\n",
       "      <td>80.0</td>\n",
       "    </tr>\n",
       "    <tr>\n",
       "      <th>4</th>\n",
       "      <td>17</td>\n",
       "      <td>76.0</td>\n",
       "    </tr>\n",
       "    <tr>\n",
       "      <th>5</th>\n",
       "      <td>12</td>\n",
       "      <td>75.0</td>\n",
       "    </tr>\n",
       "    <tr>\n",
       "      <th>6</th>\n",
       "      <td>16</td>\n",
       "      <td>73.0</td>\n",
       "    </tr>\n",
       "    <tr>\n",
       "      <th>7</th>\n",
       "      <td>8</td>\n",
       "      <td>71.0</td>\n",
       "    </tr>\n",
       "    <tr>\n",
       "      <th>8</th>\n",
       "      <td>9</td>\n",
       "      <td>68.0</td>\n",
       "    </tr>\n",
       "    <tr>\n",
       "      <th>9</th>\n",
       "      <td>14</td>\n",
       "      <td>67.0</td>\n",
       "    </tr>\n",
       "    <tr>\n",
       "      <th>10</th>\n",
       "      <td>10</td>\n",
       "      <td>66.0</td>\n",
       "    </tr>\n",
       "    <tr>\n",
       "      <th>11</th>\n",
       "      <td>7</td>\n",
       "      <td>65.0</td>\n",
       "    </tr>\n",
       "    <tr>\n",
       "      <th>12</th>\n",
       "      <td>11</td>\n",
       "      <td>63.0</td>\n",
       "    </tr>\n",
       "    <tr>\n",
       "      <th>13</th>\n",
       "      <td>1</td>\n",
       "      <td>61.0</td>\n",
       "    </tr>\n",
       "    <tr>\n",
       "      <th>14</th>\n",
       "      <td>18</td>\n",
       "      <td>59.0</td>\n",
       "    </tr>\n",
       "    <tr>\n",
       "      <th>15</th>\n",
       "      <td>22</td>\n",
       "      <td>59.0</td>\n",
       "    </tr>\n",
       "    <tr>\n",
       "      <th>16</th>\n",
       "      <td>15</td>\n",
       "      <td>59.0</td>\n",
       "    </tr>\n",
       "    <tr>\n",
       "      <th>17</th>\n",
       "      <td>26</td>\n",
       "      <td>58.0</td>\n",
       "    </tr>\n",
       "    <tr>\n",
       "      <th>18</th>\n",
       "      <td>25</td>\n",
       "      <td>58.0</td>\n",
       "    </tr>\n",
       "    <tr>\n",
       "      <th>19</th>\n",
       "      <td>24</td>\n",
       "      <td>56.0</td>\n",
       "    </tr>\n",
       "    <tr>\n",
       "      <th>20</th>\n",
       "      <td>6</td>\n",
       "      <td>55.0</td>\n",
       "    </tr>\n",
       "    <tr>\n",
       "      <th>21</th>\n",
       "      <td>2</td>\n",
       "      <td>28.0</td>\n",
       "    </tr>\n",
       "    <tr>\n",
       "      <th>22</th>\n",
       "      <td>13</td>\n",
       "      <td>24.0</td>\n",
       "    </tr>\n",
       "    <tr>\n",
       "      <th>23</th>\n",
       "      <td>4</td>\n",
       "      <td>7.0</td>\n",
       "    </tr>\n",
       "    <tr>\n",
       "      <th>24</th>\n",
       "      <td>23</td>\n",
       "      <td>0.0</td>\n",
       "    </tr>\n",
       "    <tr>\n",
       "      <th>25</th>\n",
       "      <td>21</td>\n",
       "      <td>0.0</td>\n",
       "    </tr>\n",
       "  </tbody>\n",
       "</table>\n",
       "</div>"
      ],
      "text/plain": [
       "   route_id  wheelchair_accessible_ratio\n",
       "0         5                         99.0\n",
       "1        19                         96.0\n",
       "2         3                         83.0\n",
       "3        20                         80.0\n",
       "4        17                         76.0\n",
       "5        12                         75.0\n",
       "6        16                         73.0\n",
       "7         8                         71.0\n",
       "8         9                         68.0\n",
       "9        14                         67.0\n",
       "10       10                         66.0\n",
       "11        7                         65.0\n",
       "12       11                         63.0\n",
       "13        1                         61.0\n",
       "14       18                         59.0\n",
       "15       22                         59.0\n",
       "16       15                         59.0\n",
       "17       26                         58.0\n",
       "18       25                         58.0\n",
       "19       24                         56.0\n",
       "20        6                         55.0\n",
       "21        2                         28.0\n",
       "22       13                         24.0\n",
       "23        4                          7.0\n",
       "24       23                          0.0\n",
       "25       21                          0.0"
      ]
     },
     "execution_count": 8,
     "metadata": {},
     "output_type": "execute_result"
    }
   ],
   "source": [
    "wheelchair_ratio_df = pd.DataFrame(\n",
    "    trips.groupby('route_id').apply(compute_wheelchair_ratio).sort_values(ascending=False).round(0),\n",
    "    columns=['wheelchair_accessible_ratio']\n",
    ").reset_index()\n",
    "wheelchair_ratio_df['route_id'] = wheelchair_ratio_df['route_id'].str.replace('L', '')\n",
    "wheelchair_ratio_df"
   ]
  },
  {
   "cell_type": "markdown",
   "id": "8aa3cbb9",
   "metadata": {},
   "source": [
    "Gratuluji těm z vás, co bydlí na Žižkově a s kočárkem potřebují jezdit tramvají číslo 5 nebo 19, protože tyto tramvaje mají téměř všechny spoje nízkopodlažní.\n",
    "\n",
    "Naopak linka 23 a 21 nemají žádné nízkopodlažní spoje. V případě tramvaje 23, se jedná o [nostalgickou linku](https://pid.cz/nostalgicka-linka-23/), kde jezdí nerekonstruované vysokopodlažní vozy T3. Ti, co jezdí linkou 21 asi prostě mají smůlu.\n",
    "\n",
    "Já patřím k těm, kdo by měli ve špičce čekat na nízkopodlažní třináctku hodinu."
   ]
  },
  {
   "cell_type": "code",
   "execution_count": 9,
   "id": "67b8e197",
   "metadata": {},
   "outputs": [
    {
     "data": {
      "text/html": [
       "<svg  width=\"1430\" height=\"55\"><rect x=\"0\" y=\"0\" width=\"55\" height=\"55\" style=\"fill:#097940;stroke-width:2;stroke:rgb(255,255,255)\"/><rect x=\"55\" y=\"0\" width=\"55\" height=\"55\" style=\"fill:#128a49;stroke-width:2;stroke:rgb(255,255,255)\"/><rect x=\"110\" y=\"0\" width=\"55\" height=\"55\" style=\"fill:#219c52;stroke-width:2;stroke:rgb(255,255,255)\"/><rect x=\"165\" y=\"0\" width=\"55\" height=\"55\" style=\"fill:#3ca959;stroke-width:2;stroke:rgb(255,255,255)\"/><rect x=\"220\" y=\"0\" width=\"55\" height=\"55\" style=\"fill:#5ab760;stroke-width:2;stroke:rgb(255,255,255)\"/><rect x=\"275\" y=\"0\" width=\"55\" height=\"55\" style=\"fill:#73c264;stroke-width:2;stroke:rgb(255,255,255)\"/><rect x=\"330\" y=\"0\" width=\"55\" height=\"55\" style=\"fill:#8ccd67;stroke-width:2;stroke:rgb(255,255,255)\"/><rect x=\"385\" y=\"0\" width=\"55\" height=\"55\" style=\"fill:#a2d76a;stroke-width:2;stroke:rgb(255,255,255)\"/><rect x=\"440\" y=\"0\" width=\"55\" height=\"55\" style=\"fill:#b7e075;stroke-width:2;stroke:rgb(255,255,255)\"/><rect x=\"495\" y=\"0\" width=\"55\" height=\"55\" style=\"fill:#c9e881;stroke-width:2;stroke:rgb(255,255,255)\"/><rect x=\"550\" y=\"0\" width=\"55\" height=\"55\" style=\"fill:#dcf08f;stroke-width:2;stroke:rgb(255,255,255)\"/><rect x=\"605\" y=\"0\" width=\"55\" height=\"55\" style=\"fill:#e9f6a1;stroke-width:2;stroke:rgb(255,255,255)\"/><rect x=\"660\" y=\"0\" width=\"55\" height=\"55\" style=\"fill:#f8fcb6;stroke-width:2;stroke:rgb(255,255,255)\"/><rect x=\"715\" y=\"0\" width=\"55\" height=\"55\" style=\"fill:#fffab6;stroke-width:2;stroke:rgb(255,255,255)\"/><rect x=\"770\" y=\"0\" width=\"55\" height=\"55\" style=\"fill:#feeda1;stroke-width:2;stroke:rgb(255,255,255)\"/><rect x=\"825\" y=\"0\" width=\"55\" height=\"55\" style=\"fill:#fee28f;stroke-width:2;stroke:rgb(255,255,255)\"/><rect x=\"880\" y=\"0\" width=\"55\" height=\"55\" style=\"fill:#fed07e;stroke-width:2;stroke:rgb(255,255,255)\"/><rect x=\"935\" y=\"0\" width=\"55\" height=\"55\" style=\"fill:#fdbf6f;stroke-width:2;stroke:rgb(255,255,255)\"/><rect x=\"990\" y=\"0\" width=\"55\" height=\"55\" style=\"fill:#fcaa5f;stroke-width:2;stroke:rgb(255,255,255)\"/><rect x=\"1045\" y=\"0\" width=\"55\" height=\"55\" style=\"fill:#f99355;stroke-width:2;stroke:rgb(255,255,255)\"/><rect x=\"1100\" y=\"0\" width=\"55\" height=\"55\" style=\"fill:#f67a49;stroke-width:2;stroke:rgb(255,255,255)\"/><rect x=\"1155\" y=\"0\" width=\"55\" height=\"55\" style=\"fill:#ef633f;stroke-width:2;stroke:rgb(255,255,255)\"/><rect x=\"1210\" y=\"0\" width=\"55\" height=\"55\" style=\"fill:#e44c34;stroke-width:2;stroke:rgb(255,255,255)\"/><rect x=\"1265\" y=\"0\" width=\"55\" height=\"55\" style=\"fill:#da362a;stroke-width:2;stroke:rgb(255,255,255)\"/><rect x=\"1320\" y=\"0\" width=\"55\" height=\"55\" style=\"fill:#c82227;stroke-width:2;stroke:rgb(255,255,255)\"/><rect x=\"1375\" y=\"0\" width=\"55\" height=\"55\" style=\"fill:#b71126;stroke-width:2;stroke:rgb(255,255,255)\"/></svg>"
      ],
      "text/plain": [
       "[(0.03598615916955017, 0.4742791234140715, 0.2502883506343714),\n",
       " (0.07197231833910034, 0.5407151095732411, 0.2848904267589389),\n",
       " (0.13118031526336021, 0.6103037293348712, 0.32103037293348713),\n",
       " (0.23637062668204534, 0.6615148019992311, 0.34732795078815837),\n",
       " (0.3532487504805844, 0.7184159938485198, 0.3765474817377932),\n",
       " (0.44921184159938493, 0.7627066512879662, 0.3936178392925798),\n",
       " (0.5476355247981547, 0.805767012687428, 0.40438292964244527),\n",
       " (0.6362168396770479, 0.8445213379469437, 0.4140715109573242),\n",
       " (0.7176470588235296, 0.8797385620915034, 0.45882352941176485),\n",
       " (0.7882352941176473, 0.9101883890811228, 0.5044982698961938),\n",
       " (0.8626682045367168, 0.9421760861207229, 0.5610918877354865),\n",
       " (0.9152633602460593, 0.964321414840446, 0.6330642060745868),\n",
       " (0.9737024221453289, 0.9889273356401385, 0.7130334486735873),\n",
       " (0.9993079584775086, 0.9785467128027682, 0.7130334486735871),\n",
       " (0.9977700884275279, 0.930872741253364, 0.6330642060745867),\n",
       " (0.9963860053825452, 0.8879661668589004, 0.5610918877354863),\n",
       " (0.9948481353325644, 0.8169165705497885, 0.4934256055363321),\n",
       " (0.9934640522875817, 0.7477124183006535, 0.4352941176470587),\n",
       " (0.990080738177624, 0.6673587081891579, 0.37347174163783153),\n",
       " (0.9776239907727797, 0.5773933102652824, 0.33194925028835054),\n",
       " (0.9637831603229527, 0.47743175701653207, 0.28581314878892733),\n",
       " (0.9390234525182622, 0.3899269511726259, 0.24552095347943098),\n",
       " (0.8944252210688197, 0.29611687812379844, 0.20246059207996922),\n",
       " (0.8542868127643214, 0.2116878123798539, 0.1637062668204537),\n",
       " (0.7854671280276817, 0.1328719723183391, 0.15178777393310267),\n",
       " (0.7162629757785467, 0.06643598615916955, 0.15040369088811995)]"
      ]
     },
     "execution_count": 9,
     "metadata": {},
     "output_type": "execute_result"
    }
   ],
   "source": [
    "palette = sns.color_palette(\"RdYlGn\", n_colors=26)\n",
    "palette.reverse()\n",
    "palette"
   ]
  },
  {
   "cell_type": "code",
   "execution_count": 10,
   "id": "7aa6e1aa",
   "metadata": {},
   "outputs": [
    {
     "data": {
      "image/png": "[encoded data removed]",
      "text/plain": [
       "<Figure size 1500x600 with 1 Axes>"
      ]
     },
     "metadata": {},
     "output_type": "display_data"
    }
   ],
   "source": [
    "fig, ax = plt.subplots(figsize=(15,6))\n",
    "sns.barplot(\n",
    "    x='route_id', y='wheelchair_accessible_ratio', data=wheelchair_ratio_df.reset_index(),\n",
    "    palette=palette,\n",
    ")\n",
    "plt.xticks(rotation=45, ha='right')\n",
    "ax.bar_label(ax.containers[0], fmt='%.f%%')\n",
    "plt.title('Která tramvaj je nejlepší pro cestování s kočárkem?')\n",
    "plt.xlabel('Číslo tramvaje')\n",
    "plt.ylabel('Procento nízkopodlažních spojů')\n",
    "plt.legend(loc='upper right', labels=['% nízkopodlažních spojů'])\n",
    "plt.show()"
   ]
  }
 ],
 "metadata": {
  "kernelspec": {
   "display_name": "Python 3 (ipykernel)",
   "language": "python",
   "name": "python3"
  },
  "language_info": {
   "codemirror_mode": {
    "name": "ipython",
    "version": 3
   },
   "file_extension": ".py",
   "mimetype": "text/x-python",
   "name": "python",
   "nbconvert_exporter": "python",
   "pygments_lexer": "ipython3",
   "version": "3.10.6"
  }
 },
 "nbformat": 4,
 "nbformat_minor": 5
}
